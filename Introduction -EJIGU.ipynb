{
 "cells": [
  {
   "cell_type": "markdown",
   "metadata": {},
   "source": [
    "## Instructions\n",
    "1. Answer below question\n",
    "2. Rename this file to include your lastname as a post-fix to the file name.\n",
    "   - Example, \"Introduction-your lastname\"\n",
    "3. Submit the file via Canvas"
   ]
  },
  {
   "cell_type": "markdown",
   "metadata": {},
   "source": [
    "## Question\n",
    "1. Please introduce yourself (name, background, interest). \n",
    "\n",
    "My name is Bizuayehu Ejig. I graduated from the University of Maryland Global Campus last year \n",
    "majoring in Computer Networks and cybersecurity. I am currently looking for a job in my field. \n",
    "I am interested in taking the phyton class because, it is very important to have programming skills in my field. \n",
    "I expect that at the end of this class, I will have the basic knowledge and clear understanding of phyton. I wish all of you a great time together! "
   ]
  },
  {
   "cell_type": "markdown",
   "metadata": {},
   "source": []
  }
 ],
 "metadata": {
  "kernelspec": {
   "display_name": "Python 3 (ipykernel)",
   "language": "python",
   "name": "python3"
  },
  "language_info": {
   "codemirror_mode": {
    "name": "ipython",
    "version": 3
   },
   "file_extension": ".py",
   "mimetype": "text/x-python",
   "name": "python",
   "nbconvert_exporter": "python",
   "pygments_lexer": "ipython3",
   "version": "3.9.7"
  }
 },
 "nbformat": 4,
 "nbformat_minor": 2
}
